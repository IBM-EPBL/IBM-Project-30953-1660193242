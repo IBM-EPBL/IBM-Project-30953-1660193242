{
  "nbformat": 4,
  "nbformat_minor": 0,
  "metadata": {
    "colab": {
      "provenance": [],
      "collapsed_sections": []
    },
    "kernelspec": {
      "name": "python3",
      "display_name": "Python 3"
    },
    "language_info": {
      "name": "python"
    }
  },
  "cells": [
    {
      "cell_type": "code",
      "execution_count": null,
      "metadata": {
        "id": "4kNIb2PU7Chv",
        "colab": {
          "base_uri": "https://localhost:8080/",
          "height": 408
        },
        "outputId": "7b51c649-ea74-46cb-b4e4-ac8dbbae92ab"
      },
      "outputs": [
        {
          "output_type": "error",
          "ename": "FileNotFoundError",
          "evalue": "ignored",
          "traceback": [
            "\u001b[0;31m---------------------------------------------------------------------------\u001b[0m",
            "\u001b[0;31mFileNotFoundError\u001b[0m                         Traceback (most recent call last)",
            "\u001b[0;32m<ipython-input-12-791da121d759>\u001b[0m in \u001b[0;36m<module>\u001b[0;34m\u001b[0m\n\u001b[1;32m     35\u001b[0m \u001b[0;34m\u001b[0m\u001b[0m\n\u001b[1;32m     36\u001b[0m \u001b[0maugmented_data_path\u001b[0m  \u001b[0;34m=\u001b[0m\u001b[0;34m'C:\\Augmented Data'\u001b[0m\u001b[0;34m\u001b[0m\u001b[0;34m\u001b[0m\u001b[0m\n\u001b[0;32m---> 37\u001b[0;31m \u001b[0maugment_data\u001b[0m\u001b[0;34m(\u001b[0m\u001b[0mfile_dir\u001b[0m\u001b[0;34m=\u001b[0m\u001b[0;34m'C:\\Augmented Data\\Digital naturalist\\Birds\\Great Indian bustard Birds'\u001b[0m\u001b[0;34m,\u001b[0m \u001b[0mn_generated_samples\u001b[0m\u001b[0;34m=\u001b[0m\u001b[0;36m20\u001b[0m\u001b[0;34m,\u001b[0m \u001b[0msave_to_dir\u001b[0m\u001b[0;34m=\u001b[0m\u001b[0maugmented_data_path\u001b[0m\u001b[0;34m+\u001b[0m\u001b[0;34m'/Bird/GIB_AUG'\u001b[0m\u001b[0;34m)\u001b[0m\u001b[0;34m\u001b[0m\u001b[0;34m\u001b[0m\u001b[0m\n\u001b[0m\u001b[1;32m     38\u001b[0m \u001b[0maugment_data\u001b[0m\u001b[0;34m(\u001b[0m\u001b[0mfile_dir\u001b[0m\u001b[0;34m=\u001b[0m\u001b[0;34m'C:\\Augmented Data\\Digital naturalist\\Birds\\Spoon billed sadipiper birds'\u001b[0m\u001b[0;34m,\u001b[0m \u001b[0mn_generated_samples\u001b[0m\u001b[0;34m=\u001b[0m\u001b[0;36m20\u001b[0m\u001b[0;34m,\u001b[0m \u001b[0msave_to_dir\u001b[0m\u001b[0;34m=\u001b[0m \u001b[0maugmented_data_path\u001b[0m\u001b[0;34m+\u001b[0m\u001b[0;34m'/Bird/SPS_AUG'\u001b[0m\u001b[0;34m)\u001b[0m\u001b[0;34m\u001b[0m\u001b[0;34m\u001b[0m\u001b[0m\n\u001b[1;32m     39\u001b[0m \u001b[0maugment_data\u001b[0m\u001b[0;34m(\u001b[0m\u001b[0mfile_dir\u001b[0m\u001b[0;34m=\u001b[0m\u001b[0;34m'C:\\Augmented Data\\Digital naturalist\\Flowers\\Corpse flower'\u001b[0m\u001b[0;34m,\u001b[0m \u001b[0mn_generated_samples\u001b[0m\u001b[0;34m=\u001b[0m\u001b[0;36m20\u001b[0m\u001b[0;34m,\u001b[0m \u001b[0msave_to_dir\u001b[0m\u001b[0;34m=\u001b[0m\u001b[0maugmented_data_path\u001b[0m\u001b[0;34m+\u001b[0m\u001b[0;34m'/Flower/Corpse_AUG'\u001b[0m\u001b[0;34m)\u001b[0m\u001b[0;34m\u001b[0m\u001b[0;34m\u001b[0m\u001b[0m\n",
            "\u001b[0;32m<ipython-input-12-791da121d759>\u001b[0m in \u001b[0;36maugment_data\u001b[0;34m(file_dir, n_generated_samples, save_to_dir)\u001b[0m\n\u001b[1;32m     22\u001b[0m \u001b[0;34m\u001b[0m\u001b[0m\n\u001b[1;32m     23\u001b[0m \u001b[0;34m\u001b[0m\u001b[0m\n\u001b[0;32m---> 24\u001b[0;31m    \u001b[0;32mfor\u001b[0m \u001b[0mfilename\u001b[0m \u001b[0;32min\u001b[0m \u001b[0mlistdir\u001b[0m\u001b[0;34m(\u001b[0m\u001b[0mfile_dir\u001b[0m\u001b[0;34m)\u001b[0m\u001b[0;34m:\u001b[0m\u001b[0;34m\u001b[0m\u001b[0;34m\u001b[0m\u001b[0m\n\u001b[0m\u001b[1;32m     25\u001b[0m         \u001b[0mimage\u001b[0m \u001b[0;34m=\u001b[0m \u001b[0mcv2\u001b[0m\u001b[0;34m.\u001b[0m\u001b[0mimread\u001b[0m\u001b[0;34m(\u001b[0m\u001b[0mfile_dir\u001b[0m \u001b[0;34m+\u001b[0m \u001b[0;34m'/'\u001b[0m \u001b[0;34m+\u001b[0m \u001b[0mfilename\u001b[0m\u001b[0;34m)\u001b[0m\u001b[0;34m\u001b[0m\u001b[0;34m\u001b[0m\u001b[0m\n\u001b[1;32m     26\u001b[0m         \u001b[0mimage\u001b[0m \u001b[0;34m=\u001b[0m \u001b[0mimage\u001b[0m\u001b[0;34m.\u001b[0m\u001b[0mreshape\u001b[0m\u001b[0;34m(\u001b[0m\u001b[0;34m(\u001b[0m\u001b[0;36m1\u001b[0m\u001b[0;34m,\u001b[0m\u001b[0;34m)\u001b[0m\u001b[0;34m+\u001b[0m\u001b[0mimage\u001b[0m\u001b[0;34m.\u001b[0m\u001b[0mshape\u001b[0m\u001b[0;34m)\u001b[0m\u001b[0;34m\u001b[0m\u001b[0;34m\u001b[0m\u001b[0m\n",
            "\u001b[0;31mFileNotFoundError\u001b[0m: [Errno 2] No such file or directory: 'C:\\\\Augmented Data\\\\Digital naturalist\\\\Birds\\\\Great Indian bustard Birds'"
          ]
        }
      ],
      "source": [
        "from keras.preprocessing.image import ImageDataGenerator\n",
        "import cv2\n",
        "from os import listdir\n",
        "import time \n",
        "def hms_string(sec_elapsed):\n",
        "  h = int(sec_elapsed / (60 * 60))\n",
        "  m = int((sec_elapsed % (60 * 60)) /60)\n",
        "  s = sec_elapsed % 60\n",
        "  return f\"{h}:{m}:{round(s,1)}\"\n",
        "  \n",
        "def augment_data(file_dir, n_generated_samples, save_to_dir):\n",
        "   data_gen = ImageDataGenerator(rotation_range=30,\n",
        "              width_shift_range=0.1,\n",
        "              height_shift_range=0.15,\n",
        "              shear_range=0.25,\n",
        "              zoom_range = 0.2,\n",
        "              horizontal_flip=True,\n",
        "              vertical_flip=False,\n",
        "              fill_mode='nearest',\n",
        "              brightness_range=(0.5,1.2)\n",
        "              )\n",
        "   \n",
        "   \n",
        "   for filename in listdir(file_dir):\n",
        "        image = cv2.imread(file_dir + '/' + filename)\n",
        "        image = image.reshape((1,)+image.shape)\n",
        "        save_prefix = 'aug_' + filename[:-4]\n",
        "        i=0\n",
        "        for batch in data_gen.flow(x=image, batch_size=1, save_to_dir=save_to_dir,save_prefix=save_prefix, svae_format='jpg'):\n",
        "            i +=1\n",
        "            if i > n_generated_samples:\n",
        "                break\n",
        "        \n",
        "start_time = time.time()\n",
        "\n",
        "augmented_data_path  ='C:\\Augmented Data'\n",
        "augment_data(file_dir='C:\\Augmented Data\\Digital naturalist\\Birds\\Great Indian bustard Birds', n_generated_samples=20, save_to_dir=augmented_data_path+'/Bird/GIB_AUG')\n",
        "augment_data(file_dir='C:\\Augmented Data\\Digital naturalist\\Birds\\Spoon billed sadipiper birds', n_generated_samples=20, save_to_dir= augmented_data_path+'/Bird/SPS_AUG')\n",
        "augment_data(file_dir='C:\\Augmented Data\\Digital naturalist\\Flowers\\Corpse flower', n_generated_samples=20, save_to_dir=augmented_data_path+'/Flower/Corpse_AUG')\n",
        "augment_data(file_dir='C:\\Augmented Data\\Digital naturalist\\Flowers\\Lady slipper orchid flower', n_generated_samples=20, save_to_dir=augmented_data_path+'/Flower/LS_Orchid_AUG')\n",
        "augment_data(file_dir='C:\\Augmented Data\\Digital naturalist\\Mammals\\Pangolin mammal', n_generated_samples=20, save_to_dir=augmented_data_path+'/Mammal/LS_Pangolin_AUG')\n",
        "augment_data(file_dir='C:\\Augmented Data\\Digital naturalist\\Mammals\\Seneca white deer mammal', n_generated_samples=20, save_to_dir=augmented_data_path+'/Mammal/SW_Deer_AUG')       \n",
        "\n",
        "end_time = time.time()\n",
        "exection_time = (end_time - start_time)\n",
        "print(\"Elasped Time:\"+str(execution_time))"
      ]
    }
  ]
}